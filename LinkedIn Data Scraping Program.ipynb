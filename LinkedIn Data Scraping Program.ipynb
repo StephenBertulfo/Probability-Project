{
 "cells": [
  {
   "cell_type": "markdown",
   "id": "81e59993",
   "metadata": {},
   "source": [
    "**Imports**"
   ]
  },
  {
   "cell_type": "code",
   "execution_count": null,
   "id": "ebba1ba1",
   "metadata": {},
   "outputs": [],
   "source": [
    "# imports\n",
    "from selenium import webdriver\n",
    "import csv\n",
    "import time\n",
    "import codecs\n",
    "from selenium.webdriver.common.by import By\n",
    "from bs4 import BeautifulSoup\n",
    "from selenium.webdriver.common.keys import Keys\n",
    "from csv import DictWriter\n",
    "import os\n",
    "\n",
    "driver = webdriver.Chrome('/Users/joshua/Documents/chromedriver')"
   ]
  },
  {
   "cell_type": "markdown",
   "id": "6bc02c44",
   "metadata": {},
   "source": [
    "**Accessing LinkedIn Account**"
   ]
  },
  {
   "cell_type": "code",
   "execution_count": null,
   "id": "1eb42316",
   "metadata": {},
   "outputs": [],
   "source": [
    "# defining new variable passing two parameters\n",
    "\n",
    "# driver.get method() will navigate to a page given by the URL address\n",
    "driver.get('https://www.linkedin.com')\n",
    "\n",
    "# locate email form by_class_name\n",
    "username = driver.find_element(\"name\", \"session_key\")\n",
    "\n",
    "# send_keys() to simulate key strokes\n",
    "username.send_keys('') #email-address\n",
    "\n",
    "# sleep for 0.5 seconds\n",
    "time.sleep(0.5)\n",
    "\n",
    "# locate password form by_class_name\n",
    "password = driver.find_element(\"name\", \"session_password\")\n",
    "\n",
    "# send_keys() to simulate key strokes\n",
    "password.send_keys('')#password\n",
    "time.sleep(0.5)\n",
    "                         \n",
    "from selenium.webdriver.common.by import By\n",
    "# locate submit button by_xpath\n",
    "log_in_button = driver.find_element(By.CLASS_NAME,\"sign-in-form__submit-button\")\n",
    "\n",
    "# .click() to mimic button click\n",
    "log_in_button.click()"
   ]
  },
  {
   "cell_type": "markdown",
   "id": "ae37d764",
   "metadata": {},
   "source": [
    "**Getting The URLs In Google**"
   ]
  },
  {
   "cell_type": "code",
   "execution_count": null,
   "id": "5d46f1ae",
   "metadata": {},
   "outputs": [],
   "source": [
    "driver.get('https:www.google.com')\n",
    "time.sleep(3)\n",
    "\n",
    "search_query = driver.find_element('name', 'q')\n",
    "search_query.send_keys('site:linkedin.com/in/ AND \"University of Santo Tomas\"')\n",
    "\n",
    "search_query.send_keys(Keys.RETURN)\n",
    "\n",
    "driver.find_element(By.XPATH, '//*[@id=\"hdtb-msb\"]/div[1]/div/div[2]/a').click()\n",
    "linkedin_urls = []\n",
    "\n",
    "for i in range(14):\n",
    "    # locate URL by_class_name\n",
    "    linkedin = [my_elem.get_attribute(\"href\") for my_elem in driver.find_elements(By.CSS_SELECTOR,  \"a.WlydOe\")]\n",
    "\n",
    "    from parsel import Selector\n",
    "\n",
    "    driver.page_source\n",
    "\n",
    "    linkedin = [url for url in linkedin]\n",
    "    linkedin_urls = linkedin_urls + linkedin\n",
    "    \n",
    "    time.sleep(5)\n",
    "    \n",
    "    driver.find_element(By.XPATH,'//*[@id=\"pnnext\"]/span[2]').click()"
   ]
  },
  {
   "cell_type": "markdown",
   "id": "edad29d7",
   "metadata": {},
   "source": [
    "**Getting The Data On LinkedIn**"
   ]
  },
  {
   "cell_type": "code",
   "execution_count": null,
   "id": "1494f064",
   "metadata": {},
   "outputs": [],
   "source": [
    "import requests\n",
    "\n",
    "# function to ensure all key data fields have a value\n",
    "def validate_field(field):# if field is present pass if field:pass\n",
    "# if field is not present print text else:\n",
    "    field = 'No results'\n",
    "    return field\n",
    "\n",
    "# For loop to iterate over each URL in the list\n",
    "for linkedin_url in linkedin_urls:\n",
    "\n",
    "    # get the profile URL \n",
    "    driver.get(linkedin_url)\n",
    "\n",
    "    # add a 5 second pause loading each URL\n",
    "    time.sleep(5)\n",
    "\n",
    "    # assigning the source code for the webpage to variable sel\n",
    "    sel = Selector(text=driver.page_source)\n",
    "    \n",
    "\n",
    "    src = driver.page_source\n",
    " \n",
    "    soup = BeautifulSoup(src, 'lxml')\n",
    "    \n",
    "    details = soup.find('div', {'class': 'mt2 relative'})\n",
    "    \n",
    "    name_loc = details.find('h1')\n",
    "    name = name_loc.get_text().strip()\n",
    "\n",
    "    job_title_loc = details.find('div',{'class': 'text-body-medium break-words'})\n",
    "    job_title = job_title_loc.get_text().strip()\n",
    "\n",
    "    location_loc = details.find('span', {'class': 'text-body-small inline t-black--light break-words'})\n",
    "    location = location_loc.get_text().strip()\n",
    "\n",
    "    company_college = details.find_all('div', {'class': 'inline-show-more-text'})\n",
    "\n",
    "    if len(company_college) == 2:\n",
    "        company_loc = company_college[0]\n",
    "        college_loc = company_college[1]\n",
    "        company = company_loc.get_text().strip()\n",
    "        college = college_loc.get_text().strip()\n",
    "    else:\n",
    "        college_loc = company_college[0]\n",
    "        college = college_loc.get_text().strip()\n",
    "        company = \"No results\"\n",
    "    \n",
    "    with open(\"Linkedin_Data.csv\",'a', newline='') as f:\n",
    "        writer = DictWriter(f, fieldnames = ['Name', 'Job Title', 'Company', 'College', 'Location', 'URL'])\n",
    "    \n",
    "        if os.stat(\"Linkedin_Data.csv\").st_size == 0:\n",
    "            DictWriter.writeheader(writer)\n",
    "\n",
    "        writer.writerow({'Name': name, 'Job Title': job_title, 'Company': company, 'College': college, 'Location': location, 'URL': linkedin_url})"
   ]
  }
 ],
 "metadata": {
  "kernelspec": {
   "display_name": "Python 3 (ipykernel)",
   "language": "python",
   "name": "python3"
  },
  "language_info": {
   "codemirror_mode": {
    "name": "ipython",
    "version": 3
   },
   "file_extension": ".py",
   "mimetype": "text/x-python",
   "name": "python",
   "nbconvert_exporter": "python",
   "pygments_lexer": "ipython3",
   "version": "3.9.12"
  }
 },
 "nbformat": 4,
 "nbformat_minor": 5
}
